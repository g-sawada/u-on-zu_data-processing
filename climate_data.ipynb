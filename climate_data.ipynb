{
 "cells": [
  {
   "cell_type": "code",
   "execution_count": 1,
   "id": "a6ac6397-f9f0-4d40-8d36-e645c32e75c1",
   "metadata": {},
   "outputs": [
    {
     "name": "stdout",
     "output_type": "stream",
     "text": [
      "Current working directory: /Users/sawad/dev/myapps/u-on-zu_data-processing\n"
     ]
    }
   ],
   "source": [
    "import os\n",
    "import pandas as pd\n",
    "import glob\n",
    "\n",
    "#現在のディレクトリを確認\n",
    "current_directory = os.getcwd()\n",
    "print(\"Current working directory:\", current_directory)"
   ]
  },
  {
   "cell_type": "code",
   "execution_count": 2,
   "id": "bd469019-7876-48bb-99eb-f66964f96db0",
   "metadata": {},
   "outputs": [],
   "source": [
    "# 読み込み元ディレクトリを指定\n",
    "input_dir = './raw/utf-8'\n",
    "\n",
    "#出力先ディレクトリを指定\n",
    "output_dir = './processed'"
   ]
  },
  {
   "cell_type": "code",
   "execution_count": 3,
   "id": "f0718c7b-bac7-4cd1-90a3-30a54d322882",
   "metadata": {},
   "outputs": [
    {
     "name": "stdout",
     "output_type": "stream",
     "text": [
      "ディレクトリ内のCSVファイル一覧:\n",
      "11_宗谷_utf-8.csv\n",
      "12_上川_utf-8.csv\n",
      "13_留萌_utf-8.csv\n",
      "14_石狩_utf-8.csv\n",
      "15_空知_utf-8.csv\n",
      "16_後志_utf-8.csv\n",
      "17_オホーツク_utf-8.csv\n",
      "18_根室_utf-8.csv\n",
      "19_釧路_utf-8.csv\n",
      "20_十勝_utf-8.csv\n",
      "21_胆振_utf-8.csv\n",
      "22_日高_utf-8.csv\n",
      "23_渡島_utf-8.csv\n",
      "24_檜山_utf-8.csv\n",
      "31_青森_utf-8.csv\n",
      "32_秋田_utf-8.csv\n",
      "33_岩手_utf-8.csv\n",
      "34_宮城_utf-8.csv\n",
      "35_山形_utf-8.csv\n",
      "36_福島_utf-8.csv\n",
      "40_茨城_utf-8.csv\n",
      "41_栃木_utf-8.csv\n",
      "42_群馬_utf-8.csv\n",
      "43_埼玉_utf-8.csv\n",
      "44_東京_utf-8.csv\n",
      "45_千葉_utf-8.csv\n",
      "46_神奈川_utf-8.csv\n",
      "48_長野_utf-8.csv\n",
      "49_山梨_utf-8.csv\n",
      "50_静岡_utf-8.csv\n",
      "51_愛知_utf-8.csv\n",
      "52_岐阜_utf-8.csv\n",
      "53_三重_utf-8.csv\n",
      "54_新潟_utf-8.csv\n",
      "55_富山_utf-8.csv\n",
      "56_石川_utf-8.csv\n",
      "57_福井_utf-8.csv\n",
      "60_滋賀_utf-8.csv\n",
      "61_京都_utf-8.csv\n",
      "62_大阪_utf-8.csv\n",
      "63_兵庫_utf-8.csv\n",
      "64_奈良_utf-8.csv\n",
      "65_和歌山_utf-8.csv\n",
      "66_岡山_utf-8.csv\n",
      "67_広島_utf-8.csv\n",
      "68_島根_utf-8.csv\n",
      "69_鳥取_utf-8.csv\n",
      "71_徳島_utf-8.csv\n",
      "72_香川_utf-8.csv\n",
      "73_愛媛_utf-8.csv\n",
      "74_高知_utf-8.csv\n",
      "81_山口_utf-8.csv\n",
      "82_福岡_utf-8.csv\n",
      "83_大分_utf-8.csv\n",
      "84_長崎_utf-8.csv\n",
      "85_佐賀_utf-8.csv\n",
      "86_熊本_utf-8.csv\n",
      "87_宮崎_utf-8.csv\n",
      "88_鹿児島_utf-8.csv\n",
      "91_沖縄_utf-8.csv\n"
     ]
    }
   ],
   "source": [
    "\n",
    "# ディレクトリ内のすべてのCSVファイルのファイル名を取得\n",
    "csv_files = glob.glob(os.path.join(input_dir, \"*.csv\"))\n",
    "\n",
    "# ファイル名のみを抽出\n",
    "csv_filenames = [os.path.basename(file) for file in csv_files]\n",
    "\n",
    "csv_filenames.sort()\n",
    "\n",
    "# ファイル名を表示\n",
    "print(\"ディレクトリ内のCSVファイル一覧:\")\n",
    "for filename in csv_filenames:\n",
    "    print(filename)\n",
    "\n",
    "# # CSVファイルの読み込みテスト\n",
    "# for file in csv_files:\n",
    "#     # ファイルを読み込み\n",
    "#     df = pd.read_csv(file, encoding='utf-8')\n",
    "#     display(df.head(6))\n",
    "#     df.to_csv(os.path.join(output_dir, 'new_df.csv'), index=False, header=False)\n"
   ]
  },
  {
   "cell_type": "code",
   "execution_count": 4,
   "id": "896c2c01-0c05-4ccb-8efa-49226d007c38",
   "metadata": {},
   "outputs": [],
   "source": [
    "# climate_data_test.py を元に,各ファイルを整形する関数を定義\n",
    "def shape_city_data(df):\n",
    "    #6行目（ヘッダーなし）に「平年値」の文字列が含まれている行を抽出 （columns_with_heinenchiに条件式の結果がTとなるindexの配列が返る）\n",
    "    columns_with_heinenchi = df.columns[df.iloc[5].str.contains('平年値', na=False)]\n",
    "    df_heinenchi = df[columns_with_heinenchi]\n",
    "    \n",
    "    # 7行目（ヘッダーなし）がNaNのカラム（=データが入っているカラム）について，8〜19行目に1つでも空欄が含まれていれば，4行目の観測地点名を配列にpushする\n",
    "    # 除外都市リストを宣言\n",
    "    exclude_cities = []\n",
    "    \n",
    "    # 7行目がNaNのカラム（=実際のデータが入っているカラム）を抽出\n",
    "    columns_onlydata = df_heinenchi.columns[df_heinenchi.iloc[6].isna()]\n",
    "    df_onlydata = df[columns_onlydata]\n",
    "    \n",
    "    # 実データ部分のみをsubset化\n",
    "    data_subset = df_onlydata.iloc[7:18]\n",
    "    # 実データ部分のいずれか1つでもNaNのあるカラムのindexを特定\n",
    "    columns_with_nan = data_subset.columns[data_subset.isna().any()]    \n",
    "    \n",
    "    # 平年値データに戻り,実データにNaNを含むカラムの都市名を配列にpush\n",
    "    for col in columns_with_nan:\n",
    "        exclude_cities.append(df_onlydata.loc[3, col])\n",
    "    \n",
    "    # 「品質情報」のカラムを抜き出し,8〜19行目に1つでも「8」以外の数値が含まれていれば，4行目の観測地点名を配列にpushする\n",
    "    columns_onlyquality = df_heinenchi.columns[df_heinenchi.iloc[6].str.contains('品質情報', na=False)]\n",
    "    df_onlyquality = df[columns_onlyquality]\n",
    "    \n",
    "    # 品質情報の実データ部分のみを抽出\n",
    "    data_quality_subset = df_onlyquality.iloc[7:18]\n",
    "    # display(data_quality_subset)\n",
    "    \n",
    "    # 実データ部分のいずれか1つでも8以外のあるカラムのindexを特定\n",
    "    data_quality_subset = data_quality_subset.astype(int)  # int型に変換\n",
    "    columns_with_notok = data_quality_subset.columns[(data_quality_subset != 8).any()]\n",
    "    # display(columns_with_notok)\n",
    "    \n",
    "    # 平年値データに戻り,8以外のあるカラムの都市名を配列にpush\n",
    "    for col in columns_with_notok:\n",
    "        exclude_cities.append(df_onlyquality.loc[3, col])\n",
    "        \n",
    "    # 除外都市リストの重複を除外しておく\n",
    "    exclude_cities = list(set(exclude_cities))\n",
    "\n",
    "    \n",
    "    # 除外都市リストに含まれている都市のデータを,気温・降水量共に除外する\n",
    "    # データフレームから都市名の行をインデックスと共に抽出\n",
    "    city_name = df_onlydata.loc[3]\n",
    "    \n",
    "    # exclude_citiesに名前が登録されている都市の,データフレームのカラムindexを配列で取得\n",
    "    exclude_indexes = city_name[city_name.isin(exclude_cities)].index\n",
    "    \n",
    "    # 除外するカラムindexでフィルタリング\n",
    "    filtered_df = df_onlydata.drop(columns=exclude_indexes)\n",
    "    \n",
    "    # 仕上げ\n",
    "    # 1,2,7行目を削除\n",
    "    final_df = filtered_df.drop([0,1,6])\n",
    "    return final_df"
   ]
  },
  {
   "cell_type": "code",
   "execution_count": 20,
   "id": "10af47f7-82b1-475d-9664-bcb53fc01466",
   "metadata": {},
   "outputs": [
    {
     "data": {
      "text/html": [
       "<div>\n",
       "<style scoped>\n",
       "    .dataframe tbody tr th:only-of-type {\n",
       "        vertical-align: middle;\n",
       "    }\n",
       "\n",
       "    .dataframe tbody tr th {\n",
       "        vertical-align: top;\n",
       "    }\n",
       "\n",
       "    .dataframe thead th {\n",
       "        text-align: right;\n",
       "    }\n",
       "</style>\n",
       "<table border=\"1\" class=\"dataframe\">\n",
       "  <thead>\n",
       "    <tr style=\"text-align: right;\">\n",
       "      <th></th>\n",
       "      <th>4</th>\n",
       "      <th>9</th>\n",
       "      <th>14</th>\n",
       "      <th>19</th>\n",
       "      <th>24</th>\n",
       "      <th>29</th>\n",
       "      <th>34</th>\n",
       "      <th>39</th>\n",
       "      <th>54</th>\n",
       "      <th>59</th>\n",
       "      <th>65</th>\n",
       "      <th>71</th>\n",
       "      <th>76</th>\n",
       "      <th>81</th>\n",
       "      <th>86</th>\n",
       "      <th>91</th>\n",
       "    </tr>\n",
       "  </thead>\n",
       "  <tbody>\n",
       "    <tr>\n",
       "      <th>2</th>\n",
       "      <td>根室</td>\n",
       "      <td>根室</td>\n",
       "      <td>根室</td>\n",
       "      <td>根室</td>\n",
       "      <td>根室</td>\n",
       "      <td>根室</td>\n",
       "      <td>根室</td>\n",
       "      <td>根室</td>\n",
       "      <td>根室</td>\n",
       "      <td>根室</td>\n",
       "      <td>根室</td>\n",
       "      <td>根室</td>\n",
       "      <td>根室</td>\n",
       "      <td>根室</td>\n",
       "      <td>根室</td>\n",
       "      <td>根室</td>\n",
       "    </tr>\n",
       "    <tr>\n",
       "      <th>3</th>\n",
       "      <td>羅臼</td>\n",
       "      <td>羅臼</td>\n",
       "      <td>標津</td>\n",
       "      <td>標津</td>\n",
       "      <td>上標津</td>\n",
       "      <td>上標津</td>\n",
       "      <td>中標津</td>\n",
       "      <td>中標津</td>\n",
       "      <td>別海</td>\n",
       "      <td>別海</td>\n",
       "      <td>根室</td>\n",
       "      <td>根室</td>\n",
       "      <td>納沙布</td>\n",
       "      <td>納沙布</td>\n",
       "      <td>厚床</td>\n",
       "      <td>厚床</td>\n",
       "    </tr>\n",
       "    <tr>\n",
       "      <th>4</th>\n",
       "      <td>降水量の合計(mm)</td>\n",
       "      <td>平均気温(℃)</td>\n",
       "      <td>降水量の合計(mm)</td>\n",
       "      <td>平均気温(℃)</td>\n",
       "      <td>降水量の合計(mm)</td>\n",
       "      <td>平均気温(℃)</td>\n",
       "      <td>降水量の合計(mm)</td>\n",
       "      <td>平均気温(℃)</td>\n",
       "      <td>降水量の合計(mm)</td>\n",
       "      <td>平均気温(℃)</td>\n",
       "      <td>降水量の合計(mm)</td>\n",
       "      <td>平均気温(℃)</td>\n",
       "      <td>降水量の合計(mm)</td>\n",
       "      <td>平均気温(℃)</td>\n",
       "      <td>降水量の合計(mm)</td>\n",
       "      <td>平均気温(℃)</td>\n",
       "    </tr>\n",
       "    <tr>\n",
       "      <th>5</th>\n",
       "      <td>平年値(mm)</td>\n",
       "      <td>平年値(℃)</td>\n",
       "      <td>平年値(mm)</td>\n",
       "      <td>平年値(℃)</td>\n",
       "      <td>平年値(mm)</td>\n",
       "      <td>平年値(℃)</td>\n",
       "      <td>平年値(mm)</td>\n",
       "      <td>平年値(℃)</td>\n",
       "      <td>平年値(mm)</td>\n",
       "      <td>平年値(℃)</td>\n",
       "      <td>平年値(mm)</td>\n",
       "      <td>平年値(℃)</td>\n",
       "      <td>平年値(mm)</td>\n",
       "      <td>平年値(℃)</td>\n",
       "      <td>平年値(mm)</td>\n",
       "      <td>平年値(℃)</td>\n",
       "    </tr>\n",
       "    <tr>\n",
       "      <th>7</th>\n",
       "      <td>89.7</td>\n",
       "      <td>-4.5</td>\n",
       "      <td>38.0</td>\n",
       "      <td>-5.4</td>\n",
       "      <td>45.1</td>\n",
       "      <td>-6.7</td>\n",
       "      <td>44.0</td>\n",
       "      <td>-6.6</td>\n",
       "      <td>38.2</td>\n",
       "      <td>-6.7</td>\n",
       "      <td>30.6</td>\n",
       "      <td>-3.4</td>\n",
       "      <td>18.9</td>\n",
       "      <td>-3.0</td>\n",
       "      <td>37.2</td>\n",
       "      <td>-6.0</td>\n",
       "    </tr>\n",
       "    <tr>\n",
       "      <th>8</th>\n",
       "      <td>66.6</td>\n",
       "      <td>-4.8</td>\n",
       "      <td>28.0</td>\n",
       "      <td>-5.5</td>\n",
       "      <td>37.9</td>\n",
       "      <td>-6.4</td>\n",
       "      <td>32.0</td>\n",
       "      <td>-6.5</td>\n",
       "      <td>27.4</td>\n",
       "      <td>-6.5</td>\n",
       "      <td>23.5</td>\n",
       "      <td>-3.8</td>\n",
       "      <td>14.6</td>\n",
       "      <td>-3.7</td>\n",
       "      <td>27.7</td>\n",
       "      <td>-5.8</td>\n",
       "    </tr>\n",
       "    <tr>\n",
       "      <th>9</th>\n",
       "      <td>93.9</td>\n",
       "      <td>-1.1</td>\n",
       "      <td>54.3</td>\n",
       "      <td>-1.6</td>\n",
       "      <td>57.8</td>\n",
       "      <td>-2.1</td>\n",
       "      <td>57.5</td>\n",
       "      <td>-2.0</td>\n",
       "      <td>55.2</td>\n",
       "      <td>-1.9</td>\n",
       "      <td>47.0</td>\n",
       "      <td>-0.8</td>\n",
       "      <td>37.4</td>\n",
       "      <td>-1.0</td>\n",
       "      <td>57.8</td>\n",
       "      <td>-1.7</td>\n",
       "    </tr>\n",
       "    <tr>\n",
       "      <th>10</th>\n",
       "      <td>111.7</td>\n",
       "      <td>2.9</td>\n",
       "      <td>82.8</td>\n",
       "      <td>3.4</td>\n",
       "      <td>85.4</td>\n",
       "      <td>3.0</td>\n",
       "      <td>84.2</td>\n",
       "      <td>3.6</td>\n",
       "      <td>79.0</td>\n",
       "      <td>3.6</td>\n",
       "      <td>64.4</td>\n",
       "      <td>3.5</td>\n",
       "      <td>53.9</td>\n",
       "      <td>3.0</td>\n",
       "      <td>78.8</td>\n",
       "      <td>3.3</td>\n",
       "    </tr>\n",
       "    <tr>\n",
       "      <th>11</th>\n",
       "      <td>144.0</td>\n",
       "      <td>7.8</td>\n",
       "      <td>109.8</td>\n",
       "      <td>8.1</td>\n",
       "      <td>108.6</td>\n",
       "      <td>8.8</td>\n",
       "      <td>107.5</td>\n",
       "      <td>8.9</td>\n",
       "      <td>107.2</td>\n",
       "      <td>8.7</td>\n",
       "      <td>96.2</td>\n",
       "      <td>7.7</td>\n",
       "      <td>82.9</td>\n",
       "      <td>6.8</td>\n",
       "      <td>110.2</td>\n",
       "      <td>7.9</td>\n",
       "    </tr>\n",
       "    <tr>\n",
       "      <th>12</th>\n",
       "      <td>119.4</td>\n",
       "      <td>11.5</td>\n",
       "      <td>111.9</td>\n",
       "      <td>11.5</td>\n",
       "      <td>107.6</td>\n",
       "      <td>12.8</td>\n",
       "      <td>103.9</td>\n",
       "      <td>12.6</td>\n",
       "      <td>111.4</td>\n",
       "      <td>12.3</td>\n",
       "      <td>103.0</td>\n",
       "      <td>10.9</td>\n",
       "      <td>93.6</td>\n",
       "      <td>10.1</td>\n",
       "      <td>117.1</td>\n",
       "      <td>11.5</td>\n",
       "    </tr>\n",
       "    <tr>\n",
       "      <th>13</th>\n",
       "      <td>125.4</td>\n",
       "      <td>15.4</td>\n",
       "      <td>123.1</td>\n",
       "      <td>15.4</td>\n",
       "      <td>124.5</td>\n",
       "      <td>16.7</td>\n",
       "      <td>121.6</td>\n",
       "      <td>16.4</td>\n",
       "      <td>121.9</td>\n",
       "      <td>16.2</td>\n",
       "      <td>115.1</td>\n",
       "      <td>14.9</td>\n",
       "      <td>107.7</td>\n",
       "      <td>14.0</td>\n",
       "      <td>124.7</td>\n",
       "      <td>15.4</td>\n",
       "    </tr>\n",
       "    <tr>\n",
       "      <th>14</th>\n",
       "      <td>200.5</td>\n",
       "      <td>17.8</td>\n",
       "      <td>161.2</td>\n",
       "      <td>18.0</td>\n",
       "      <td>192.5</td>\n",
       "      <td>18.5</td>\n",
       "      <td>175.5</td>\n",
       "      <td>18.3</td>\n",
       "      <td>154.9</td>\n",
       "      <td>18.1</td>\n",
       "      <td>132.3</td>\n",
       "      <td>17.4</td>\n",
       "      <td>116.3</td>\n",
       "      <td>16.8</td>\n",
       "      <td>142.6</td>\n",
       "      <td>17.5</td>\n",
       "    </tr>\n",
       "    <tr>\n",
       "      <th>15</th>\n",
       "      <td>204.7</td>\n",
       "      <td>15.7</td>\n",
       "      <td>174.5</td>\n",
       "      <td>16.1</td>\n",
       "      <td>152.9</td>\n",
       "      <td>15.5</td>\n",
       "      <td>177.2</td>\n",
       "      <td>15.7</td>\n",
       "      <td>184.2</td>\n",
       "      <td>15.4</td>\n",
       "      <td>160.0</td>\n",
       "      <td>16.2</td>\n",
       "      <td>130.6</td>\n",
       "      <td>16.0</td>\n",
       "      <td>172.9</td>\n",
       "      <td>15.4</td>\n",
       "    </tr>\n",
       "    <tr>\n",
       "      <th>16</th>\n",
       "      <td>214.1</td>\n",
       "      <td>10.1</td>\n",
       "      <td>125.2</td>\n",
       "      <td>10.4</td>\n",
       "      <td>124.1</td>\n",
       "      <td>9.2</td>\n",
       "      <td>134.1</td>\n",
       "      <td>9.7</td>\n",
       "      <td>125.9</td>\n",
       "      <td>9.5</td>\n",
       "      <td>126.1</td>\n",
       "      <td>11.6</td>\n",
       "      <td>103.3</td>\n",
       "      <td>11.7</td>\n",
       "      <td>137.0</td>\n",
       "      <td>9.9</td>\n",
       "    </tr>\n",
       "    <tr>\n",
       "      <th>17</th>\n",
       "      <td>150.7</td>\n",
       "      <td>4.1</td>\n",
       "      <td>78.5</td>\n",
       "      <td>3.8</td>\n",
       "      <td>80.9</td>\n",
       "      <td>2.7</td>\n",
       "      <td>80.5</td>\n",
       "      <td>3.0</td>\n",
       "      <td>79.0</td>\n",
       "      <td>2.9</td>\n",
       "      <td>83.2</td>\n",
       "      <td>5.6</td>\n",
       "      <td>75.2</td>\n",
       "      <td>5.8</td>\n",
       "      <td>85.3</td>\n",
       "      <td>3.6</td>\n",
       "    </tr>\n",
       "    <tr>\n",
       "      <th>18</th>\n",
       "      <td>133.8</td>\n",
       "      <td>-1.4</td>\n",
       "      <td>62.4</td>\n",
       "      <td>-2.6</td>\n",
       "      <td>73.4</td>\n",
       "      <td>-3.7</td>\n",
       "      <td>65.8</td>\n",
       "      <td>-3.7</td>\n",
       "      <td>63.8</td>\n",
       "      <td>-3.8</td>\n",
       "      <td>59.0</td>\n",
       "      <td>-0.5</td>\n",
       "      <td>49.2</td>\n",
       "      <td>-0.2</td>\n",
       "      <td>67.5</td>\n",
       "      <td>-3.1</td>\n",
       "    </tr>\n",
       "  </tbody>\n",
       "</table>\n",
       "</div>"
      ],
      "text/plain": [
       "            4        9           14       19          24       29          34  \\\n",
       "2           根室       根室          根室       根室          根室       根室          根室   \n",
       "3           羅臼       羅臼          標津       標津         上標津      上標津         中標津   \n",
       "4   降水量の合計(mm)  平均気温(℃)  降水量の合計(mm)  平均気温(℃)  降水量の合計(mm)  平均気温(℃)  降水量の合計(mm)   \n",
       "5      平年値(mm)   平年値(℃)     平年値(mm)   平年値(℃)     平年値(mm)   平年値(℃)     平年値(mm)   \n",
       "7         89.7     -4.5        38.0     -5.4        45.1     -6.7        44.0   \n",
       "8         66.6     -4.8        28.0     -5.5        37.9     -6.4        32.0   \n",
       "9         93.9     -1.1        54.3     -1.6        57.8     -2.1        57.5   \n",
       "10       111.7      2.9        82.8      3.4        85.4      3.0        84.2   \n",
       "11       144.0      7.8       109.8      8.1       108.6      8.8       107.5   \n",
       "12       119.4     11.5       111.9     11.5       107.6     12.8       103.9   \n",
       "13       125.4     15.4       123.1     15.4       124.5     16.7       121.6   \n",
       "14       200.5     17.8       161.2     18.0       192.5     18.5       175.5   \n",
       "15       204.7     15.7       174.5     16.1       152.9     15.5       177.2   \n",
       "16       214.1     10.1       125.2     10.4       124.1      9.2       134.1   \n",
       "17       150.7      4.1        78.5      3.8        80.9      2.7        80.5   \n",
       "18       133.8     -1.4        62.4     -2.6        73.4     -3.7        65.8   \n",
       "\n",
       "         39          54       59          65       71          76       81  \\\n",
       "2        根室          根室       根室          根室       根室          根室       根室   \n",
       "3       中標津          別海       別海          根室       根室         納沙布      納沙布   \n",
       "4   平均気温(℃)  降水量の合計(mm)  平均気温(℃)  降水量の合計(mm)  平均気温(℃)  降水量の合計(mm)  平均気温(℃)   \n",
       "5    平年値(℃)     平年値(mm)   平年値(℃)     平年値(mm)   平年値(℃)     平年値(mm)   平年値(℃)   \n",
       "7      -6.6        38.2     -6.7        30.6     -3.4        18.9     -3.0   \n",
       "8      -6.5        27.4     -6.5        23.5     -3.8        14.6     -3.7   \n",
       "9      -2.0        55.2     -1.9        47.0     -0.8        37.4     -1.0   \n",
       "10      3.6        79.0      3.6        64.4      3.5        53.9      3.0   \n",
       "11      8.9       107.2      8.7        96.2      7.7        82.9      6.8   \n",
       "12     12.6       111.4     12.3       103.0     10.9        93.6     10.1   \n",
       "13     16.4       121.9     16.2       115.1     14.9       107.7     14.0   \n",
       "14     18.3       154.9     18.1       132.3     17.4       116.3     16.8   \n",
       "15     15.7       184.2     15.4       160.0     16.2       130.6     16.0   \n",
       "16      9.7       125.9      9.5       126.1     11.6       103.3     11.7   \n",
       "17      3.0        79.0      2.9        83.2      5.6        75.2      5.8   \n",
       "18     -3.7        63.8     -3.8        59.0     -0.5        49.2     -0.2   \n",
       "\n",
       "            86       91  \n",
       "2           根室       根室  \n",
       "3           厚床       厚床  \n",
       "4   降水量の合計(mm)  平均気温(℃)  \n",
       "5      平年値(mm)   平年値(℃)  \n",
       "7         37.2     -6.0  \n",
       "8         27.7     -5.8  \n",
       "9         57.8     -1.7  \n",
       "10        78.8      3.3  \n",
       "11       110.2      7.9  \n",
       "12       117.1     11.5  \n",
       "13       124.7     15.4  \n",
       "14       142.6     17.5  \n",
       "15       172.9     15.4  \n",
       "16       137.0      9.9  \n",
       "17        85.3      3.6  \n",
       "18        67.5     -3.1  "
      ]
     },
     "metadata": {},
     "output_type": "display_data"
    },
    {
     "data": {
      "text/plain": [
       "2        檜山\n",
       "3       せたな\n",
       "7      -1.9\n",
       "8      -1.4\n",
       "9       1.7\n",
       "10      6.5\n",
       "11     11.1\n",
       "12     15.3\n",
       "13     19.5\n",
       "14     21.4\n",
       "15     18.2\n",
       "16     12.4\n",
       "17      6.1\n",
       "18      0.3\n",
       "7      53.7\n",
       "8      48.3\n",
       "9      51.1\n",
       "10     68.8\n",
       "11     94.9\n",
       "12     67.3\n",
       "13    116.3\n",
       "14    145.5\n",
       "15    145.4\n",
       "16    104.6\n",
       "17     99.1\n",
       "18     72.0\n",
       "dtype: object"
      ]
     },
     "metadata": {},
     "output_type": "display_data"
    },
    {
     "data": {
      "text/plain": [
       "2        檜山\n",
       "3        今金\n",
       "7      -3.6\n",
       "8      -3.0\n",
       "9       0.3\n",
       "10      5.7\n",
       "11     11.1\n",
       "12     15.4\n",
       "13     19.5\n",
       "14     21.1\n",
       "15     17.1\n",
       "16     10.6\n",
       "17      4.3\n",
       "18     -1.4\n",
       "7     105.0\n",
       "8      85.8\n",
       "9      71.7\n",
       "10     78.6\n",
       "11    105.5\n",
       "12     74.4\n",
       "13    131.4\n",
       "14    166.0\n",
       "15    151.4\n",
       "16    126.3\n",
       "17    124.3\n",
       "18    121.7\n",
       "dtype: object"
      ]
     },
     "metadata": {},
     "output_type": "display_data"
    },
    {
     "data": {
      "text/plain": [
       "2        檜山\n",
       "3        奥尻\n",
       "7      -0.4\n",
       "8      -0.2\n",
       "9       3.0\n",
       "10      7.4\n",
       "11     11.7\n",
       "12     16.0\n",
       "13     20.1\n",
       "14     22.5\n",
       "15     20.0\n",
       "16     14.2\n",
       "17      7.6\n",
       "18      1.7\n",
       "7      29.6\n",
       "8      34.1\n",
       "9      42.4\n",
       "10     64.2\n",
       "11     83.8\n",
       "12     76.3\n",
       "13    113.3\n",
       "14    127.1\n",
       "15    122.7\n",
       "16     90.4\n",
       "17     84.2\n",
       "18     61.9\n",
       "dtype: object"
      ]
     },
     "metadata": {},
     "output_type": "display_data"
    },
    {
     "data": {
      "text/plain": [
       "2        檜山\n",
       "3        米岡\n",
       "7      -1.6\n",
       "8      -1.0\n",
       "9       2.3\n",
       "10      6.8\n",
       "11     11.3\n",
       "12     15.8\n",
       "13     19.8\n",
       "14     22.2\n",
       "15     19.4\n",
       "16     13.5\n",
       "17      7.0\n",
       "18      0.8\n",
       "7      31.3\n",
       "8      30.9\n",
       "9      40.3\n",
       "10     53.0\n",
       "11     87.4\n",
       "12     82.7\n",
       "13    108.4\n",
       "14    112.0\n",
       "15    113.8\n",
       "16     76.8\n",
       "17     74.1\n",
       "18     57.7\n",
       "dtype: object"
      ]
     },
     "metadata": {},
     "output_type": "display_data"
    },
    {
     "data": {
      "text/plain": [
       "2        檜山\n",
       "3         鶉\n",
       "7      -3.7\n",
       "8      -3.0\n",
       "9       0.5\n",
       "10      6.0\n",
       "11     11.4\n",
       "12     15.8\n",
       "13     19.8\n",
       "14     21.2\n",
       "15     17.1\n",
       "16     10.5\n",
       "17      4.5\n",
       "18     -1.3\n",
       "7      91.3\n",
       "8      73.2\n",
       "9      72.0\n",
       "10     80.9\n",
       "11    103.5\n",
       "12     86.2\n",
       "13    143.7\n",
       "14    186.5\n",
       "15    149.7\n",
       "16    122.1\n",
       "17    131.3\n",
       "18    112.7\n",
       "dtype: object"
      ]
     },
     "metadata": {},
     "output_type": "display_data"
    },
    {
     "data": {
      "text/plain": [
       "2        檜山\n",
       "3        江差\n",
       "7      -0.6\n",
       "8      -0.2\n",
       "9       2.9\n",
       "10      7.7\n",
       "11     12.3\n",
       "12     16.4\n",
       "13     20.6\n",
       "14     22.6\n",
       "15     19.5\n",
       "16     13.7\n",
       "17      7.5\n",
       "18      1.6\n",
       "7      84.9\n",
       "8      68.4\n",
       "9      63.6\n",
       "10     74.7\n",
       "11     98.0\n",
       "12     78.6\n",
       "13    126.4\n",
       "14    167.0\n",
       "15    135.6\n",
       "16    105.5\n",
       "17    118.6\n",
       "18    109.5\n",
       "dtype: object"
      ]
     },
     "metadata": {},
     "output_type": "display_data"
    },
    {
     "ename": "NameError",
     "evalue": "name '平年値' is not defined",
     "output_type": "error",
     "traceback": [
      "\u001b[0;31m---------------------------------------------------------------------------\u001b[0m",
      "\u001b[0;31mNameError\u001b[0m                                 Traceback (most recent call last)",
      "Cell \u001b[0;32mIn[20], line 26\u001b[0m\n\u001b[1;32m     22\u001b[0m     new_row \u001b[38;5;241m=\u001b[39m pd\u001b[38;5;241m.\u001b[39mconcat([area_and_name, temp, rain])\n\u001b[1;32m     23\u001b[0m     display(new_row)\n\u001b[0;32m---> 26\u001b[0m \u001b[43m平年値\u001b[49m(mm)\n",
      "\u001b[0;31mNameError\u001b[0m: name '平年値' is not defined"
     ]
    }
   ],
   "source": [
    "# テストコード\n",
    "df=pd.read_csv('./raw/utf-8/18_根室_utf-8.csv', encoding='utf-8', header=None)\n",
    "# display(df)\n",
    "shaped_data = shape_city_data(df)\n",
    "\n",
    "display(shaped_data)\n",
    "#繰り返し処理で,2列のデータをまとめて最終出力用データフレームにappendする\n",
    "# 列を2つずつ繰り返し処理\n",
    "for i in range(0, shaped_df.shape[1], 2):      #.shape[1]で列数を返す\n",
    "    \n",
    "    # 2列にわたるデータから,都府県名,観測所名,temp,rainデータを抜き出して1つの配列にまとめる\n",
    "    area_and_name = shaped_df.iloc[0:2, i]\n",
    "\n",
    "    # 気温と降水量がどちらが先でもよいように対応\n",
    "    label = shaped_df.iloc[2, i]\n",
    "    if \"平均気温\" in label:\n",
    "        temp = shaped_df.iloc[4:16, i]    \n",
    "        rain = shaped_df.iloc[4:16, i+1]\n",
    "    else:\n",
    "        rain = shaped_df.iloc[4:16, i]\n",
    "        temp = shaped_df.iloc[4:16, i+1]\n",
    "\n",
    "    new_row = pd.concat([area_and_name, temp, rain])\n",
    "    display(new_row)\n"
   ]
  },
  {
   "cell_type": "code",
   "execution_count": 5,
   "id": "55f222e8-c239-4ac1-b5ad-33cf3a5cdd49",
   "metadata": {
    "scrolled": true
   },
   "outputs": [
    {
     "data": {
      "text/plain": [
       "'./raw/utf-8/56_石川_utf-8.csv'"
      ]
     },
     "metadata": {},
     "output_type": "display_data"
    },
    {
     "data": {
      "text/plain": [
       "'./raw/utf-8/71_徳島_utf-8.csv'"
      ]
     },
     "metadata": {},
     "output_type": "display_data"
    },
    {
     "data": {
      "text/plain": [
       "'./raw/utf-8/52_岐阜_utf-8.csv'"
      ]
     },
     "metadata": {},
     "output_type": "display_data"
    },
    {
     "data": {
      "text/plain": [
       "'./raw/utf-8/60_滋賀_utf-8.csv'"
      ]
     },
     "metadata": {},
     "output_type": "display_data"
    },
    {
     "data": {
      "text/plain": [
       "'./raw/utf-8/65_和歌山_utf-8.csv'"
      ]
     },
     "metadata": {},
     "output_type": "display_data"
    },
    {
     "data": {
      "text/plain": [
       "'./raw/utf-8/87_宮崎_utf-8.csv'"
      ]
     },
     "metadata": {},
     "output_type": "display_data"
    },
    {
     "data": {
      "text/plain": [
       "'./raw/utf-8/54_新潟_utf-8.csv'"
      ]
     },
     "metadata": {},
     "output_type": "display_data"
    },
    {
     "data": {
      "text/plain": [
       "'./raw/utf-8/22_日高_utf-8.csv'"
      ]
     },
     "metadata": {},
     "output_type": "display_data"
    },
    {
     "data": {
      "text/plain": [
       "'./raw/utf-8/88_鹿児島_utf-8.csv'"
      ]
     },
     "metadata": {},
     "output_type": "display_data"
    },
    {
     "data": {
      "text/plain": [
       "'./raw/utf-8/40_茨城_utf-8.csv'"
      ]
     },
     "metadata": {},
     "output_type": "display_data"
    },
    {
     "data": {
      "text/plain": [
       "'./raw/utf-8/51_愛知_utf-8.csv'"
      ]
     },
     "metadata": {},
     "output_type": "display_data"
    },
    {
     "data": {
      "text/plain": [
       "'./raw/utf-8/66_岡山_utf-8.csv'"
      ]
     },
     "metadata": {},
     "output_type": "display_data"
    },
    {
     "data": {
      "text/plain": [
       "'./raw/utf-8/82_福岡_utf-8.csv'"
      ]
     },
     "metadata": {},
     "output_type": "display_data"
    },
    {
     "data": {
      "text/plain": [
       "'./raw/utf-8/11_宗谷_utf-8.csv'"
      ]
     },
     "metadata": {},
     "output_type": "display_data"
    },
    {
     "data": {
      "text/plain": [
       "'./raw/utf-8/46_神奈川_utf-8.csv'"
      ]
     },
     "metadata": {},
     "output_type": "display_data"
    },
    {
     "data": {
      "text/plain": [
       "'./raw/utf-8/84_長崎_utf-8.csv'"
      ]
     },
     "metadata": {},
     "output_type": "display_data"
    },
    {
     "data": {
      "text/plain": [
       "'./raw/utf-8/12_上川_utf-8.csv'"
      ]
     },
     "metadata": {},
     "output_type": "display_data"
    },
    {
     "data": {
      "text/plain": [
       "'./raw/utf-8/67_広島_utf-8.csv'"
      ]
     },
     "metadata": {},
     "output_type": "display_data"
    },
    {
     "data": {
      "text/plain": [
       "'./raw/utf-8/36_福島_utf-8.csv'"
      ]
     },
     "metadata": {},
     "output_type": "display_data"
    },
    {
     "data": {
      "text/plain": [
       "'./raw/utf-8/33_岩手_utf-8.csv'"
      ]
     },
     "metadata": {},
     "output_type": "display_data"
    },
    {
     "data": {
      "text/plain": [
       "'./raw/utf-8/34_宮城_utf-8.csv'"
      ]
     },
     "metadata": {},
     "output_type": "display_data"
    },
    {
     "data": {
      "text/plain": [
       "'./raw/utf-8/50_静岡_utf-8.csv'"
      ]
     },
     "metadata": {},
     "output_type": "display_data"
    },
    {
     "data": {
      "text/plain": [
       "'./raw/utf-8/91_沖縄_utf-8.csv'"
      ]
     },
     "metadata": {},
     "output_type": "display_data"
    },
    {
     "data": {
      "text/plain": [
       "'./raw/utf-8/53_三重_utf-8.csv'"
      ]
     },
     "metadata": {},
     "output_type": "display_data"
    },
    {
     "data": {
      "text/plain": [
       "'./raw/utf-8/43_埼玉_utf-8.csv'"
      ]
     },
     "metadata": {},
     "output_type": "display_data"
    },
    {
     "data": {
      "text/plain": [
       "'./raw/utf-8/48_長野_utf-8.csv'"
      ]
     },
     "metadata": {},
     "output_type": "display_data"
    },
    {
     "data": {
      "text/plain": [
       "'./raw/utf-8/19_釧路_utf-8.csv'"
      ]
     },
     "metadata": {},
     "output_type": "display_data"
    },
    {
     "data": {
      "text/plain": [
       "'./raw/utf-8/86_熊本_utf-8.csv'"
      ]
     },
     "metadata": {},
     "output_type": "display_data"
    },
    {
     "data": {
      "text/plain": [
       "'./raw/utf-8/23_渡島_utf-8.csv'"
      ]
     },
     "metadata": {},
     "output_type": "display_data"
    },
    {
     "data": {
      "text/plain": [
       "'./raw/utf-8/41_栃木_utf-8.csv'"
      ]
     },
     "metadata": {},
     "output_type": "display_data"
    },
    {
     "data": {
      "text/plain": [
       "'./raw/utf-8/69_鳥取_utf-8.csv'"
      ]
     },
     "metadata": {},
     "output_type": "display_data"
    },
    {
     "data": {
      "text/plain": [
       "'./raw/utf-8/17_オホーツク_utf-8.csv'"
      ]
     },
     "metadata": {},
     "output_type": "display_data"
    },
    {
     "data": {
      "text/plain": [
       "'./raw/utf-8/21_胆振_utf-8.csv'"
      ]
     },
     "metadata": {},
     "output_type": "display_data"
    },
    {
     "data": {
      "text/plain": [
       "'./raw/utf-8/68_島根_utf-8.csv'"
      ]
     },
     "metadata": {},
     "output_type": "display_data"
    },
    {
     "data": {
      "text/plain": [
       "'./raw/utf-8/83_大分_utf-8.csv'"
      ]
     },
     "metadata": {},
     "output_type": "display_data"
    },
    {
     "data": {
      "text/plain": [
       "'./raw/utf-8/61_京都_utf-8.csv'"
      ]
     },
     "metadata": {},
     "output_type": "display_data"
    },
    {
     "data": {
      "text/plain": [
       "'./raw/utf-8/57_福井_utf-8.csv'"
      ]
     },
     "metadata": {},
     "output_type": "display_data"
    },
    {
     "data": {
      "text/plain": [
       "'./raw/utf-8/20_十勝_utf-8.csv'"
      ]
     },
     "metadata": {},
     "output_type": "display_data"
    },
    {
     "data": {
      "text/plain": [
       "'./raw/utf-8/44_東京_utf-8.csv'"
      ]
     },
     "metadata": {},
     "output_type": "display_data"
    },
    {
     "data": {
      "text/plain": [
       "'./raw/utf-8/73_愛媛_utf-8.csv'"
      ]
     },
     "metadata": {},
     "output_type": "display_data"
    },
    {
     "data": {
      "text/plain": [
       "'./raw/utf-8/64_奈良_utf-8.csv'"
      ]
     },
     "metadata": {},
     "output_type": "display_data"
    },
    {
     "data": {
      "text/plain": [
       "'./raw/utf-8/85_佐賀_utf-8.csv'"
      ]
     },
     "metadata": {},
     "output_type": "display_data"
    },
    {
     "data": {
      "text/plain": [
       "'./raw/utf-8/42_群馬_utf-8.csv'"
      ]
     },
     "metadata": {},
     "output_type": "display_data"
    },
    {
     "data": {
      "text/plain": [
       "'./raw/utf-8/18_根室_utf-8.csv'"
      ]
     },
     "metadata": {},
     "output_type": "display_data"
    },
    {
     "data": {
      "text/plain": [
       "'./raw/utf-8/31_青森_utf-8.csv'"
      ]
     },
     "metadata": {},
     "output_type": "display_data"
    },
    {
     "data": {
      "text/plain": [
       "'./raw/utf-8/13_留萌_utf-8.csv'"
      ]
     },
     "metadata": {},
     "output_type": "display_data"
    },
    {
     "data": {
      "text/plain": [
       "'./raw/utf-8/16_後志_utf-8.csv'"
      ]
     },
     "metadata": {},
     "output_type": "display_data"
    },
    {
     "data": {
      "text/plain": [
       "'./raw/utf-8/15_空知_utf-8.csv'"
      ]
     },
     "metadata": {},
     "output_type": "display_data"
    },
    {
     "data": {
      "text/plain": [
       "'./raw/utf-8/49_山梨_utf-8.csv'"
      ]
     },
     "metadata": {},
     "output_type": "display_data"
    },
    {
     "data": {
      "text/plain": [
       "'./raw/utf-8/81_山口_utf-8.csv'"
      ]
     },
     "metadata": {},
     "output_type": "display_data"
    },
    {
     "data": {
      "text/plain": [
       "'./raw/utf-8/35_山形_utf-8.csv'"
      ]
     },
     "metadata": {},
     "output_type": "display_data"
    },
    {
     "data": {
      "text/plain": [
       "'./raw/utf-8/55_富山_utf-8.csv'"
      ]
     },
     "metadata": {},
     "output_type": "display_data"
    },
    {
     "data": {
      "text/plain": [
       "'./raw/utf-8/32_秋田_utf-8.csv'"
      ]
     },
     "metadata": {},
     "output_type": "display_data"
    },
    {
     "data": {
      "text/plain": [
       "'./raw/utf-8/14_石狩_utf-8.csv'"
      ]
     },
     "metadata": {},
     "output_type": "display_data"
    },
    {
     "data": {
      "text/plain": [
       "'./raw/utf-8/72_香川_utf-8.csv'"
      ]
     },
     "metadata": {},
     "output_type": "display_data"
    },
    {
     "data": {
      "text/plain": [
       "'./raw/utf-8/74_高知_utf-8.csv'"
      ]
     },
     "metadata": {},
     "output_type": "display_data"
    },
    {
     "data": {
      "text/plain": [
       "'./raw/utf-8/24_檜山_utf-8.csv'"
      ]
     },
     "metadata": {},
     "output_type": "display_data"
    },
    {
     "data": {
      "text/plain": [
       "'./raw/utf-8/62_大阪_utf-8.csv'"
      ]
     },
     "metadata": {},
     "output_type": "display_data"
    },
    {
     "data": {
      "text/plain": [
       "'./raw/utf-8/45_千葉_utf-8.csv'"
      ]
     },
     "metadata": {},
     "output_type": "display_data"
    },
    {
     "data": {
      "text/plain": [
       "'./raw/utf-8/63_兵庫_utf-8.csv'"
      ]
     },
     "metadata": {},
     "output_type": "display_data"
    },
    {
     "data": {
      "text/html": [
       "<div>\n",
       "<style scoped>\n",
       "    .dataframe tbody tr th:only-of-type {\n",
       "        vertical-align: middle;\n",
       "    }\n",
       "\n",
       "    .dataframe tbody tr th {\n",
       "        vertical-align: top;\n",
       "    }\n",
       "\n",
       "    .dataframe thead th {\n",
       "        text-align: right;\n",
       "    }\n",
       "</style>\n",
       "<table border=\"1\" class=\"dataframe\">\n",
       "  <thead>\n",
       "    <tr style=\"text-align: right;\">\n",
       "      <th></th>\n",
       "      <th>0</th>\n",
       "      <th>1</th>\n",
       "      <th>2</th>\n",
       "      <th>3</th>\n",
       "      <th>4</th>\n",
       "      <th>5</th>\n",
       "      <th>6</th>\n",
       "      <th>7</th>\n",
       "      <th>8</th>\n",
       "      <th>9</th>\n",
       "      <th>...</th>\n",
       "      <th>16</th>\n",
       "      <th>17</th>\n",
       "      <th>18</th>\n",
       "      <th>19</th>\n",
       "      <th>20</th>\n",
       "      <th>21</th>\n",
       "      <th>22</th>\n",
       "      <th>23</th>\n",
       "      <th>24</th>\n",
       "      <th>25</th>\n",
       "    </tr>\n",
       "  </thead>\n",
       "  <tbody>\n",
       "    <tr>\n",
       "      <th>0</th>\n",
       "      <td>都府県振興局</td>\n",
       "      <td>観測所名</td>\n",
       "      <td>temp_jan</td>\n",
       "      <td>temp_feb</td>\n",
       "      <td>temp_mar</td>\n",
       "      <td>temp_apr</td>\n",
       "      <td>temp_may</td>\n",
       "      <td>temp_jun</td>\n",
       "      <td>temp_jul</td>\n",
       "      <td>temp_aug</td>\n",
       "      <td>...</td>\n",
       "      <td>rain_mar</td>\n",
       "      <td>rain_apr</td>\n",
       "      <td>rain_may</td>\n",
       "      <td>rain_jun</td>\n",
       "      <td>rain_jul</td>\n",
       "      <td>rain_aug</td>\n",
       "      <td>rain_sep</td>\n",
       "      <td>rain_oct</td>\n",
       "      <td>rain_nov</td>\n",
       "      <td>rain_dec</td>\n",
       "    </tr>\n",
       "    <tr>\n",
       "      <th>1</th>\n",
       "      <td>石川</td>\n",
       "      <td>珠洲</td>\n",
       "      <td>2.8</td>\n",
       "      <td>2.8</td>\n",
       "      <td>5.5</td>\n",
       "      <td>10.4</td>\n",
       "      <td>15.7</td>\n",
       "      <td>19.8</td>\n",
       "      <td>24.1</td>\n",
       "      <td>25.5</td>\n",
       "      <td>...</td>\n",
       "      <td>129.2</td>\n",
       "      <td>106.6</td>\n",
       "      <td>98.4</td>\n",
       "      <td>141.7</td>\n",
       "      <td>193.9</td>\n",
       "      <td>165.7</td>\n",
       "      <td>184.9</td>\n",
       "      <td>152.7</td>\n",
       "      <td>200.5</td>\n",
       "      <td>279.2</td>\n",
       "    </tr>\n",
       "    <tr>\n",
       "      <th>2</th>\n",
       "      <td>石川</td>\n",
       "      <td>輪島</td>\n",
       "      <td>3.3</td>\n",
       "      <td>3.4</td>\n",
       "      <td>6.1</td>\n",
       "      <td>11.1</td>\n",
       "      <td>16.1</td>\n",
       "      <td>20.0</td>\n",
       "      <td>24.4</td>\n",
       "      <td>25.9</td>\n",
       "      <td>...</td>\n",
       "      <td>138.6</td>\n",
       "      <td>121.6</td>\n",
       "      <td>115.6</td>\n",
       "      <td>155.8</td>\n",
       "      <td>199.6</td>\n",
       "      <td>176.8</td>\n",
       "      <td>214.5</td>\n",
       "      <td>171.1</td>\n",
       "      <td>231.5</td>\n",
       "      <td>278.4</td>\n",
       "    </tr>\n",
       "    <tr>\n",
       "      <th>3</th>\n",
       "      <td>石川</td>\n",
       "      <td>三井</td>\n",
       "      <td>1.1</td>\n",
       "      <td>1.4</td>\n",
       "      <td>4.4</td>\n",
       "      <td>9.6</td>\n",
       "      <td>15.1</td>\n",
       "      <td>19.1</td>\n",
       "      <td>23.2</td>\n",
       "      <td>24.7</td>\n",
       "      <td>...</td>\n",
       "      <td>132.7</td>\n",
       "      <td>128.6</td>\n",
       "      <td>101.7</td>\n",
       "      <td>172.2</td>\n",
       "      <td>241.4</td>\n",
       "      <td>200.5</td>\n",
       "      <td>190.1</td>\n",
       "      <td>157.6</td>\n",
       "      <td>193.4</td>\n",
       "      <td>264.8</td>\n",
       "    </tr>\n",
       "    <tr>\n",
       "      <th>4</th>\n",
       "      <td>石川</td>\n",
       "      <td>志賀</td>\n",
       "      <td>3.6</td>\n",
       "      <td>3.7</td>\n",
       "      <td>6.3</td>\n",
       "      <td>11.3</td>\n",
       "      <td>16.4</td>\n",
       "      <td>20.6</td>\n",
       "      <td>24.7</td>\n",
       "      <td>26.4</td>\n",
       "      <td>...</td>\n",
       "      <td>105.7</td>\n",
       "      <td>105.2</td>\n",
       "      <td>107.6</td>\n",
       "      <td>151.9</td>\n",
       "      <td>203.8</td>\n",
       "      <td>172.5</td>\n",
       "      <td>173.9</td>\n",
       "      <td>134.7</td>\n",
       "      <td>170.9</td>\n",
       "      <td>197.7</td>\n",
       "    </tr>\n",
       "    <tr>\n",
       "      <th>...</th>\n",
       "      <td>...</td>\n",
       "      <td>...</td>\n",
       "      <td>...</td>\n",
       "      <td>...</td>\n",
       "      <td>...</td>\n",
       "      <td>...</td>\n",
       "      <td>...</td>\n",
       "      <td>...</td>\n",
       "      <td>...</td>\n",
       "      <td>...</td>\n",
       "      <td>...</td>\n",
       "      <td>...</td>\n",
       "      <td>...</td>\n",
       "      <td>...</td>\n",
       "      <td>...</td>\n",
       "      <td>...</td>\n",
       "      <td>...</td>\n",
       "      <td>...</td>\n",
       "      <td>...</td>\n",
       "      <td>...</td>\n",
       "      <td>...</td>\n",
       "    </tr>\n",
       "    <tr>\n",
       "      <th>892</th>\n",
       "      <td>兵庫</td>\n",
       "      <td>神戸空港</td>\n",
       "      <td>5.9</td>\n",
       "      <td>6.3</td>\n",
       "      <td>9.2</td>\n",
       "      <td>13.7</td>\n",
       "      <td>18.5</td>\n",
       "      <td>22.2</td>\n",
       "      <td>25.9</td>\n",
       "      <td>27.9</td>\n",
       "      <td>...</td>\n",
       "      <td>83.2</td>\n",
       "      <td>83.7</td>\n",
       "      <td>117.6</td>\n",
       "      <td>164.5</td>\n",
       "      <td>186.9</td>\n",
       "      <td>84.7</td>\n",
       "      <td>135.1</td>\n",
       "      <td>106.1</td>\n",
       "      <td>52.8</td>\n",
       "      <td>49.3</td>\n",
       "    </tr>\n",
       "    <tr>\n",
       "      <th>893</th>\n",
       "      <td>兵庫</td>\n",
       "      <td>神戸</td>\n",
       "      <td>6.2</td>\n",
       "      <td>6.5</td>\n",
       "      <td>9.8</td>\n",
       "      <td>15.0</td>\n",
       "      <td>19.8</td>\n",
       "      <td>23.4</td>\n",
       "      <td>27.1</td>\n",
       "      <td>28.6</td>\n",
       "      <td>...</td>\n",
       "      <td>94.2</td>\n",
       "      <td>100.6</td>\n",
       "      <td>134.7</td>\n",
       "      <td>176.7</td>\n",
       "      <td>187.9</td>\n",
       "      <td>103.4</td>\n",
       "      <td>157.2</td>\n",
       "      <td>118.0</td>\n",
       "      <td>62.4</td>\n",
       "      <td>48.7</td>\n",
       "    </tr>\n",
       "    <tr>\n",
       "      <th>894</th>\n",
       "      <td>兵庫</td>\n",
       "      <td>郡家</td>\n",
       "      <td>5.8</td>\n",
       "      <td>5.9</td>\n",
       "      <td>8.7</td>\n",
       "      <td>13.7</td>\n",
       "      <td>18.6</td>\n",
       "      <td>22.5</td>\n",
       "      <td>26.5</td>\n",
       "      <td>27.8</td>\n",
       "      <td>...</td>\n",
       "      <td>79.2</td>\n",
       "      <td>85.8</td>\n",
       "      <td>114.5</td>\n",
       "      <td>154.5</td>\n",
       "      <td>144.9</td>\n",
       "      <td>94.4</td>\n",
       "      <td>183.3</td>\n",
       "      <td>139.8</td>\n",
       "      <td>65.6</td>\n",
       "      <td>52.9</td>\n",
       "    </tr>\n",
       "    <tr>\n",
       "      <th>895</th>\n",
       "      <td>兵庫</td>\n",
       "      <td>洲本</td>\n",
       "      <td>5.5</td>\n",
       "      <td>5.8</td>\n",
       "      <td>9.2</td>\n",
       "      <td>14.2</td>\n",
       "      <td>19.0</td>\n",
       "      <td>22.4</td>\n",
       "      <td>26.6</td>\n",
       "      <td>27.7</td>\n",
       "      <td>...</td>\n",
       "      <td>109.0</td>\n",
       "      <td>117.5</td>\n",
       "      <td>145.0</td>\n",
       "      <td>198.2</td>\n",
       "      <td>182.2</td>\n",
       "      <td>117.0</td>\n",
       "      <td>223.6</td>\n",
       "      <td>185.6</td>\n",
       "      <td>91.5</td>\n",
       "      <td>75.1</td>\n",
       "    </tr>\n",
       "    <tr>\n",
       "      <th>896</th>\n",
       "      <td>兵庫</td>\n",
       "      <td>南淡</td>\n",
       "      <td>5.8</td>\n",
       "      <td>6.3</td>\n",
       "      <td>9.1</td>\n",
       "      <td>13.8</td>\n",
       "      <td>18.6</td>\n",
       "      <td>22.3</td>\n",
       "      <td>26.1</td>\n",
       "      <td>27.4</td>\n",
       "      <td>...</td>\n",
       "      <td>87.5</td>\n",
       "      <td>89.6</td>\n",
       "      <td>114.9</td>\n",
       "      <td>170.9</td>\n",
       "      <td>197.3</td>\n",
       "      <td>143.3</td>\n",
       "      <td>225.2</td>\n",
       "      <td>185.6</td>\n",
       "      <td>73.8</td>\n",
       "      <td>73.9</td>\n",
       "    </tr>\n",
       "  </tbody>\n",
       "</table>\n",
       "<p>897 rows × 26 columns</p>\n",
       "</div>"
      ],
      "text/plain": [
       "         0     1         2         3         4         5         6         7   \\\n",
       "0    都府県振興局  観測所名  temp_jan  temp_feb  temp_mar  temp_apr  temp_may  temp_jun   \n",
       "1        石川    珠洲       2.8       2.8       5.5      10.4      15.7      19.8   \n",
       "2        石川    輪島       3.3       3.4       6.1      11.1      16.1      20.0   \n",
       "3        石川    三井       1.1       1.4       4.4       9.6      15.1      19.1   \n",
       "4        石川    志賀       3.6       3.7       6.3      11.3      16.4      20.6   \n",
       "..      ...   ...       ...       ...       ...       ...       ...       ...   \n",
       "892      兵庫  神戸空港       5.9       6.3       9.2      13.7      18.5      22.2   \n",
       "893      兵庫    神戸       6.2       6.5       9.8      15.0      19.8      23.4   \n",
       "894      兵庫    郡家       5.8       5.9       8.7      13.7      18.6      22.5   \n",
       "895      兵庫    洲本       5.5       5.8       9.2      14.2      19.0      22.4   \n",
       "896      兵庫    南淡       5.8       6.3       9.1      13.8      18.6      22.3   \n",
       "\n",
       "           8         9   ...        16        17        18        19  \\\n",
       "0    temp_jul  temp_aug  ...  rain_mar  rain_apr  rain_may  rain_jun   \n",
       "1        24.1      25.5  ...     129.2     106.6      98.4     141.7   \n",
       "2        24.4      25.9  ...     138.6     121.6     115.6     155.8   \n",
       "3        23.2      24.7  ...     132.7     128.6     101.7     172.2   \n",
       "4        24.7      26.4  ...     105.7     105.2     107.6     151.9   \n",
       "..        ...       ...  ...       ...       ...       ...       ...   \n",
       "892      25.9      27.9  ...      83.2      83.7     117.6     164.5   \n",
       "893      27.1      28.6  ...      94.2     100.6     134.7     176.7   \n",
       "894      26.5      27.8  ...      79.2      85.8     114.5     154.5   \n",
       "895      26.6      27.7  ...     109.0     117.5     145.0     198.2   \n",
       "896      26.1      27.4  ...      87.5      89.6     114.9     170.9   \n",
       "\n",
       "           20        21        22        23        24        25  \n",
       "0    rain_jul  rain_aug  rain_sep  rain_oct  rain_nov  rain_dec  \n",
       "1       193.9     165.7     184.9     152.7     200.5     279.2  \n",
       "2       199.6     176.8     214.5     171.1     231.5     278.4  \n",
       "3       241.4     200.5     190.1     157.6     193.4     264.8  \n",
       "4       203.8     172.5     173.9     134.7     170.9     197.7  \n",
       "..        ...       ...       ...       ...       ...       ...  \n",
       "892     186.9      84.7     135.1     106.1      52.8      49.3  \n",
       "893     187.9     103.4     157.2     118.0      62.4      48.7  \n",
       "894     144.9      94.4     183.3     139.8      65.6      52.9  \n",
       "895     182.2     117.0     223.6     185.6      91.5      75.1  \n",
       "896     197.3     143.3     225.2     185.6      73.8      73.9  \n",
       "\n",
       "[897 rows x 26 columns]"
      ]
     },
     "metadata": {},
     "output_type": "display_data"
    }
   ],
   "source": [
    "\n",
    "\n",
    "\n",
    "# 最終出力用の新しいデータフレームを作成\n",
    "new_df = pd.DataFrame(columns=range(0,26))\n",
    "# ヘッダーを追加\n",
    "header = ['都府県振興局', '観測所名', \n",
    "          'temp_jan', 'temp_feb', 'temp_mar', 'temp_apr', 'temp_may', 'temp_jun',\n",
    "          'temp_jul', 'temp_aug', 'temp_sep', 'temp_oct', 'temp_nov', 'temp_dec',\n",
    "          'rain_jan', 'rain_feb', 'rain_mar', 'rain_apr', 'rain_may', 'rain_jun',\n",
    "          'rain_jul', 'rain_aug', 'rain_sep', 'rain_oct', 'rain_nov', 'rain_dec']\n",
    "new_df.loc[0] = header\n",
    "\n",
    "# ディレクトリ内のすべてのCSVファイルのファイル名を取得\n",
    "csv_files = glob.glob(os.path.join(input_dir, \"*.csv\"))\n",
    "\n",
    "\n",
    "# # csv_filesで繰り返し処理\n",
    "for file in csv_files:\n",
    "    display(file)\n",
    "    # ファイルを読み込み\n",
    "    df = pd.read_csv(file, encoding='utf-8', header=None)\n",
    "    # display(df.head(6))\n",
    "\n",
    "    # 上記で定義した整形関数を実行し,完成したdfを返り値で受ける\n",
    "    shaped_df = shape_city_data(df)\n",
    "\n",
    "    #繰り返し処理で,2列のデータをまとめて最終出力用データフレームにappendする\n",
    "    # 列を2つずつ繰り返し処理\n",
    "    for i in range(0, shaped_df.shape[1], 2):      #.shape[1]で列数を返す\n",
    "        \n",
    "        # 2列にわたるデータから,都府県名,観測所名,temp,rainデータを抜き出して1つの配列にまとめる\n",
    "        area_and_name = shaped_df.iloc[0:2, i]\n",
    "\n",
    "        # 気温と降水量がどちらが先でもよいように対応\n",
    "        label = shaped_df.iloc[2, i]\n",
    "        if \"平均気温\" in label:\n",
    "            temp = shaped_df.iloc[4:16, i]    \n",
    "            rain = shaped_df.iloc[4:16, i+1]\n",
    "        else:\n",
    "            rain = shaped_df.iloc[4:16, i]\n",
    "            temp = shaped_df.iloc[4:16, i+1]\n",
    "    \n",
    "        new_row = pd.concat([area_and_name, temp, rain])\n",
    "        # display(new_row)\n",
    "        \n",
    "        # 作成したデータ配列を,データフレームの最後尾に格納（len(new_df)で既存配列の「長さ」を返すので,index指定で最後尾となる)\n",
    "        new_df.loc[len(new_df)] = new_row.T.values   # Tで縦横変換\n",
    "\n",
    "display(new_df)\n",
    "\n",
    "new_df.to_csv(os.path.join(output_dir, 'new_df.csv'), index=False, header=False)\n",
    "\n",
    "#######この後重複チェックを下で行う##############\n",
    "\n",
    "\n"
   ]
  },
  {
   "cell_type": "code",
   "execution_count": 6,
   "id": "ec3a9760-83a9-4c27-92bd-25c435b4ce70",
   "metadata": {},
   "outputs": [
    {
     "name": "stdout",
     "output_type": "stream",
     "text": [
      "重複がある行:\n",
      "     0   1     2     3     4     5     6     7     8     9   ...     16  \\\n",
      "191  福岡  八幡   6.2   6.9  10.0  14.7  19.3  22.7  26.8  27.8  ...  114.2   \n",
      "288  福島  金山  -1.0  -0.8   2.1   7.3  14.3  18.5  22.6  23.6  ...  116.1   \n",
      "294  福島  川内  -0.5   0.0   3.3   8.8  14.0  17.7  21.7  22.5  ...   95.1   \n",
      "329  岩手  山田   0.5   0.8   3.7   8.7  13.4  16.9  20.8  22.4  ...  102.7   \n",
      "363  静岡  清水   6.7   7.5  10.5  14.9  18.9  22.1  25.7  27.1  ...  209.4   \n",
      "604  十勝  池田  -8.2  -6.9  -1.3   4.9  10.4  14.2  18.0  19.4  ...   40.0   \n",
      "609  十勝  大津  -7.4  -6.4  -1.2   4.1   8.5  12.1  16.1  18.1  ...   47.3   \n",
      "616  東京  府中   4.5   5.4   8.8  13.9  18.5  21.8  25.7  26.8  ...  113.8   \n",
      "636  愛媛  長浜   6.5   6.8   9.4  13.6  17.7  21.2  25.4  26.5  ...   94.7   \n",
      "654  佐賀  白石   5.0   6.2   9.6  14.5  19.3  23.1  27.0  27.6  ...  109.8   \n",
      "661  群馬  田代  -4.5  -4.0  -0.4   5.7  11.2  14.9  19.1  19.6  ...   96.4   \n",
      "746  山口  豊田   3.6   4.4   7.5  12.4  17.3  21.2  25.1  25.9  ...  140.5   \n",
      "752  山口  下関   7.2   7.5  10.3  14.7  19.1  22.5  26.5  27.9  ...  121.2   \n",
      "760  山形  金山  -1.4  -1.0   1.7   7.6  14.1  18.6  22.3  23.3  ...  128.3   \n",
      "772  山形  山形  -0.1   0.4   4.0  10.2  16.2  20.3  23.9  25.0  ...   72.1   \n",
      "778  富山  朝日   3.4   3.6   6.8  11.9  17.1  20.9  25.1  26.6  ...  194.3   \n",
      "797  秋田  大潟   0.2   0.5   3.5   8.7  14.3  18.7  22.6  24.0  ...   82.3   \n",
      "812  秋田  湯沢  -1.5  -1.1   1.9   8.5  14.9  19.4  22.9  24.0  ...   80.8   \n",
      "817  石狩  山口  -3.7  -3.3   0.4   6.5  12.2  16.2  20.3  21.6  ...   53.4   \n",
      "825  香川  高松   5.9   6.3   9.4  14.7  19.8  23.3  27.5  28.6  ...   81.4   \n",
      "843  高知  佐賀   6.4   7.4  10.7  15.1  19.1  22.2  26.1  26.9  ...  204.3   \n",
      "846  高知  清水   8.9   9.8  12.8  16.9  20.4  23.0  26.5  27.7  ...  183.9   \n",
      "858  大阪  八尾   5.5   6.3   9.6  14.9  20.0  23.9  27.7  29.1  ...   99.9   \n",
      "\n",
      "        17     18     19     20     21     22     23     24     25  \n",
      "191  125.4  142.9  239.5  314.6  198.1  165.9   85.2   91.8   75.9  \n",
      "288   98.0   77.2  127.4  294.1  182.7  150.8  142.0  171.6  248.5  \n",
      "294  122.4  111.3  141.2  181.2  171.8  234.1  181.0   70.2   48.3  \n",
      "329  109.5  133.5  150.3  174.0  182.7  221.8  182.3   75.2   69.9  \n",
      "363  218.2  211.8  264.7  292.5  196.2  278.8  262.4  147.1   83.0  \n",
      "604   61.0   87.8   80.5  105.4  135.0  129.2   89.4   49.7   48.8  \n",
      "609   73.4  107.6  103.8  123.9  145.7  165.5  114.4   61.3   53.7  \n",
      "616  121.9  133.1  166.6  164.2  173.4  246.7  228.0   83.2   58.7  \n",
      "636  107.1  132.4  243.7  207.8  106.4  147.0   97.6   71.1   59.9  \n",
      "654  145.1  154.9  309.5  354.0  219.4  171.2   88.8   85.9   59.4  \n",
      "661  107.9  132.0  180.0  207.5  165.2  220.2  167.8   72.2   46.2  \n",
      "746  151.4  183.7  272.5  342.8  201.2  167.8   93.3   88.2   83.1  \n",
      "752  130.8  154.2  253.6  309.4  190.0  162.6   83.7   81.9   69.1  \n",
      "760  106.1  130.5  136.6  258.4  223.4  159.5  161.8  190.5  230.7  \n",
      "772   63.9   74.5  104.8  187.2  153.0  123.8  105.1   74.4   97.2  \n",
      "778  167.6  155.0  188.4  253.4  214.5  242.4  228.0  309.2  350.0  \n",
      "797   82.8   91.3   95.6  153.5  145.9  154.1  155.1  164.6  139.0  \n",
      "812   69.8   86.6  104.9  172.8  166.1  137.6  141.2  164.2  189.0  \n",
      "817   46.7   51.9   52.1   86.3  122.0  131.8  101.8  107.4   93.3  \n",
      "825   74.6  100.9  153.1  159.8  106.0  167.4  120.1   55.0   46.7  \n",
      "843  234.9  282.3  424.5  282.3  274.8  408.8  256.0  153.5   93.7  \n",
      "846  221.8  232.6  400.2  222.8  231.5  362.4  254.2  146.9   97.0  \n",
      "858   88.2  117.8  149.0  169.8  103.1  137.4  142.1   71.9   57.1  \n",
      "\n",
      "[23 rows x 26 columns]\n"
     ]
    }
   ],
   "source": [
    "# DataFrameの2列目の内容に重複があるかどうかをチェック\n",
    "is_duplicate = new_df.iloc[:, 1].duplicated()\n",
    "\n",
    "# 重複がある行を表示\n",
    "duplicates = new_df[is_duplicate]\n",
    "print(\"重複がある行:\")\n",
    "print(duplicates)"
   ]
  }
 ],
 "metadata": {
  "kernelspec": {
   "display_name": "Python 3 (ipykernel)",
   "language": "python",
   "name": "python3"
  },
  "language_info": {
   "codemirror_mode": {
    "name": "ipython",
    "version": 3
   },
   "file_extension": ".py",
   "mimetype": "text/x-python",
   "name": "python",
   "nbconvert_exporter": "python",
   "pygments_lexer": "ipython3",
   "version": "3.12.3"
  }
 },
 "nbformat": 4,
 "nbformat_minor": 5
}
